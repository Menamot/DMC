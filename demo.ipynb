{
 "cells": [
  {
   "cell_type": "code",
   "execution_count": 1,
   "outputs": [],
   "source": [
    "from DMC_class import *\n",
    "import numpy as np\n",
    "from sklearn import datasets\n",
    "from sklearn.model_selection import GridSearchCV\n",
    "\n",
    "import warnings\n",
    "warnings.filterwarnings(\"ignore\")"
   ],
   "metadata": {
    "collapsed": false,
    "ExecuteTime": {
     "end_time": "2024-05-15T12:01:58.456169Z",
     "start_time": "2024-05-15T12:01:55.028265Z"
    }
   },
   "id": "ffbb8741ea53e3fc"
  },
  {
   "cell_type": "code",
   "execution_count": 2,
   "outputs": [],
   "source": [
    "K = 2\n",
    "L = np.ones((K,K)) - np.eye(K)"
   ],
   "metadata": {
    "collapsed": false,
    "ExecuteTime": {
     "end_time": "2024-05-15T12:01:58.462645Z",
     "start_time": "2024-05-15T12:01:58.458146Z"
    }
   },
   "id": "582e62f040a63680"
  },
  {
   "cell_type": "code",
   "execution_count": 3,
   "outputs": [],
   "source": [
    "np.random.seed(10)\n",
    "X_train, y_train = datasets.make_blobs(n_samples=[125 * 5, 70 * 3], n_features=2, centers=[(9.5, 10), (9.7, 9.4)],\n",
    "                                       cluster_std=[[0.6, 0.6], [0.35, 0.3]], shuffle=True, random_state=None)\n",
    "\n",
    "\n",
    "y_train_str = np.where(y_train == 0, 'class0', 'class1')\n",
    "# y_train = y_train + 10\n",
    "# X_train = pd.DataFrame(X_train, columns=['X1', 'X2'])\n",
    "# y_train = pd.DataFrame(y_train+1, columns=['y'])"
   ],
   "metadata": {
    "collapsed": false,
    "ExecuteTime": {
     "end_time": "2024-05-15T12:01:58.494730Z",
     "start_time": "2024-05-15T12:01:58.464464Z"
    }
   },
   "id": "9527a3f3ae306959"
  },
  {
   "cell_type": "code",
   "execution_count": 4,
   "outputs": [
    {
     "name": "stdout",
     "output_type": "stream",
     "text": [
      "Caculate T_optimal... Finish\n",
      "Caculate pHat... Finish\n",
      "Caculate piStar... Finish\n",
      "Model fit compiled\n"
     ]
    }
   ],
   "source": [
    "DMC_model = DMC(T='auto', option_info=True)\n",
    "DMC_model.fit(X_train, y_train_str)"
   ],
   "metadata": {
    "collapsed": false,
    "ExecuteTime": {
     "end_time": "2024-05-15T12:02:00.305922Z",
     "start_time": "2024-05-15T12:01:58.492856Z"
    }
   },
   "id": "a494298684e06aa"
  },
  {
   "cell_type": "code",
   "execution_count": 5,
   "outputs": [
    {
     "data": {
      "text/plain": "(array([0.2176    , 0.17619048]),\n array([[0.7824    , 0.2176    ],\n        [0.17619048, 0.82380952]]))"
     },
     "execution_count": 5,
     "metadata": {},
     "output_type": "execute_result"
    }
   ],
   "source": [
    "DMC_model.T"
   ],
   "metadata": {
    "collapsed": false,
    "ExecuteTime": {
     "end_time": "2024-05-15T12:02:00.322344Z",
     "start_time": "2024-05-15T12:02:00.305812Z"
    }
   },
   "id": "cde63d3c9f9999a6"
  },
  {
   "cell_type": "code",
   "execution_count": 6,
   "outputs": [
    {
     "data": {
      "text/plain": "array([[0.08474577, 0.91525423],\n       [0.60126585, 0.39873415],\n       [0.        , 1.        ],\n       ...,\n       [0.6896552 , 0.3103448 ],\n       [0.50000003, 0.49999997],\n       [0.09569379, 0.90430621]])"
     },
     "execution_count": 6,
     "metadata": {},
     "output_type": "execute_result"
    }
   ],
   "source": [
    "y_pred = DMC_model.predict(X_train)\n",
    "compute_conditional_risk(y_train_str, y_pred, K, L)"
   ],
   "metadata": {
    "collapsed": false,
    "ExecuteTime": {
     "end_time": "2024-05-15T12:02:00.345039Z",
     "start_time": "2024-05-15T12:02:00.319383Z"
    }
   },
   "id": "ba1bf13972b2f426"
  },
  {
   "cell_type": "code",
   "execution_count": 6,
   "outputs": [],
   "source": [
    "y_pred = DMC_model.predict(X_train, pi=DMC_model.piStar)\n",
    "compute_conditional_risk(y_train, y_pred, K, L)"
   ],
   "metadata": {
    "collapsed": false,
    "ExecuteTime": {
     "end_time": "2024-05-15T12:02:00.345598Z",
     "start_time": "2024-05-15T12:02:00.326882Z"
    }
   },
   "id": "56f47899ec07678a"
  },
  {
   "cell_type": "code",
   "execution_count": null,
   "outputs": [],
   "source": [
    "param_grid = {\n",
    "    'T' : np.linspace(10, 100, 10, dtype=int)\n",
    "}\n",
    "grid_search = GridSearchCV(estimator=DMC_model, param_grid=param_grid, cv=2)\n",
    "grid_search.fit(X_train, y_train, T_start=10, T_end=100, T_step=3)\n",
    "grid_search.best_params_, grid_search.best_score_"
   ],
   "metadata": {
    "collapsed": false
   },
   "id": "9a88b4c67cc1c3ee"
  },
  {
   "cell_type": "code",
   "execution_count": null,
   "outputs": [],
   "source": [
    "y_pred = grid_search.best_estimator_.predict(X_train, pi=grid_search.best_estimator_.piStar)\n",
    "compute_conditional_risk(y_train, y_pred, 2, L)"
   ],
   "metadata": {
    "collapsed": false
   },
   "id": "e90a694965a81094"
  },
  {
   "cell_type": "markdown",
   "source": [],
   "metadata": {
    "collapsed": false
   },
   "id": "4ef4d88fdb67d5f4"
  },
  {
   "cell_type": "code",
   "execution_count": null,
   "outputs": [],
   "source": [
    "y_pred = grid_search.best_estimator_.predict(X_train)\n",
    "compute_conditional_risk(y_train, y_pred, 2, L)"
   ],
   "metadata": {
    "collapsed": false
   },
   "id": "b71ed6c87fe4c64a"
  },
  {
   "cell_type": "code",
   "execution_count": null,
   "outputs": [],
   "source": [
    "DMC_model_optimal = grid_search.best_estimator_\n",
    "DMC_model_optimal.predict_prob(X_train)"
   ],
   "metadata": {
    "collapsed": false
   },
   "id": "11f40f3955bb3b79"
  },
  {
   "cell_type": "code",
   "execution_count": null,
   "outputs": [],
   "source": [
    "DMC_model_2 = DMC(T=90)\n",
    "DMC_model_2.fit(X_train,y_train)\n",
    "y_pred = DMC_model_2.predict(X_train)\n",
    "compute_conditional_risk(y_train,y_pred,2,L)"
   ],
   "metadata": {
    "collapsed": false
   },
   "id": "688f10c9e8e3906a"
  },
  {
   "cell_type": "code",
   "execution_count": null,
   "outputs": [],
   "source": [],
   "metadata": {
    "collapsed": false
   },
   "id": "ffe5f43a88d8e519"
  }
 ],
 "metadata": {
  "kernelspec": {
   "display_name": "Python 3",
   "language": "python",
   "name": "python3"
  },
  "language_info": {
   "codemirror_mode": {
    "name": "ipython",
    "version": 2
   },
   "file_extension": ".py",
   "mimetype": "text/x-python",
   "name": "python",
   "nbconvert_exporter": "python",
   "pygments_lexer": "ipython2",
   "version": "2.7.6"
  }
 },
 "nbformat": 4,
 "nbformat_minor": 5
}
