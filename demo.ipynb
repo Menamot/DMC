{
 "cells": [
  {
   "cell_type": "code",
   "execution_count": 1,
   "id": "ffbb8741ea53e3fc",
   "metadata": {
    "collapsed": false,
    "ExecuteTime": {
     "end_time": "2024-05-30T19:25:02.113668500Z",
     "start_time": "2024-05-30T19:25:01.804670100Z"
    }
   },
   "outputs": [],
   "source": [
    "from DMC_class import *\n",
    "import numpy as np\n",
    "from sklearn import datasets\n",
    "\n",
    "import warnings\n",
    "warnings.filterwarnings(\"ignore\")"
   ]
  },
  {
   "cell_type": "code",
   "execution_count": 2,
   "id": "582e62f040a63680",
   "metadata": {
    "collapsed": false,
    "ExecuteTime": {
     "end_time": "2024-05-30T19:25:02.127669400Z",
     "start_time": "2024-05-30T19:25:02.115670500Z"
    }
   },
   "outputs": [],
   "source": [
    "K = 2\n",
    "L = np.ones((K,K)) - np.eye(K)"
   ]
  },
  {
   "cell_type": "code",
   "execution_count": 3,
   "id": "9527a3f3ae306959",
   "metadata": {
    "collapsed": false,
    "ExecuteTime": {
     "end_time": "2024-05-30T19:25:02.513668700Z",
     "start_time": "2024-05-30T19:25:02.494670500Z"
    }
   },
   "outputs": [],
   "source": [
    "np.random.seed(10)\n",
    "X_train, y_train = datasets.make_blobs(n_samples=[125 * 5, 70 * 3], n_features=2, centers=[(9.5, 10), (9.7, 9.4)],\n",
    "                                       cluster_std=[[0.6, 0.6], [0.35, 0.3]], shuffle=True, random_state=None)\n",
    "\n",
    "# X_train = pd.DataFrame(X_train, columns=['X1', 'X2'])\n",
    "# y_train = pd.DataFrame(y_train+1, columns=['y'])\n"
   ]
  },
  {
   "cell_type": "code",
   "execution_count": 9,
   "id": "a494298684e06aa",
   "metadata": {
    "collapsed": false,
    "ExecuteTime": {
     "end_time": "2024-05-30T19:25:12.693864300Z",
     "start_time": "2024-05-30T19:25:12.560867700Z"
    }
   },
   "outputs": [
    {
     "data": {
      "text/plain": "(array([0.2352    , 0.15714286]),\n array([[0.7648    , 0.2352    ],\n        [0.15714286, 0.84285714]]))"
     },
     "execution_count": 9,
     "metadata": {},
     "output_type": "execute_result"
    }
   ],
   "source": [
    "DMC_model = DMC(T=15,option_info=True,discretization=\"kmeans\")\n",
    "DMC_model.fit(X_train,y_train)\n",
    "y_pred = DMC_model.predict(X_train)\n",
    "compute_conditional_risk(y_train, y_pred, K, L)"
   ]
  },
  {
   "cell_type": "code",
   "execution_count": 5,
   "outputs": [
    {
     "data": {
      "text/plain": "(array([0.1808    , 0.25238095]),\n array([[0.8192    , 0.1808    ],\n        [0.25238095, 0.74761905]]))"
     },
     "execution_count": 5,
     "metadata": {},
     "output_type": "execute_result"
    }
   ],
   "source": [
    "DMC_model = DMC(T=15, m=1.5, discretization=\"cmeans\")\n",
    "DMC_model.fit(X_train,y_train)\n",
    "y_pred = DMC_model.predict(X_train)\n",
    "compute_conditional_risk(y_train, y_pred, K, L)"
   ],
   "metadata": {
    "collapsed": false,
    "ExecuteTime": {
     "end_time": "2024-05-30T19:25:03.398256800Z",
     "start_time": "2024-05-30T19:25:03.308258Z"
    }
   },
   "id": "f0720f4fb8a189bc"
  },
  {
   "cell_type": "code",
   "execution_count": 7,
   "outputs": [
    {
     "data": {
      "text/plain": "(array([0.2064    , 0.19047619]),\n array([[0.7936    , 0.2064    ],\n        [0.19047619, 0.80952381]]))"
     },
     "execution_count": 7,
     "metadata": {},
     "output_type": "execute_result"
    }
   ],
   "source": [
    "DMC_model = DMC(T=15, discretization=\"GM\")\n",
    "DMC_model.fit(X_train,y_train)\n",
    "y_pred = DMC_model.predict(X_train)\n",
    "compute_conditional_risk(y_train, y_pred, K, L)"
   ],
   "metadata": {
    "collapsed": false,
    "ExecuteTime": {
     "end_time": "2024-05-30T19:25:05.643654100Z",
     "start_time": "2024-05-30T19:25:05.569654700Z"
    }
   },
   "id": "fcb23b44d416fcac"
  },
  {
   "cell_type": "code",
   "execution_count": null,
   "outputs": [],
   "source": [],
   "metadata": {
    "collapsed": false
   },
   "id": "a767394e4e45097a"
  }
 ],
 "metadata": {
  "kernelspec": {
   "display_name": "Python 3",
   "language": "python",
   "name": "python3"
  },
  "language_info": {
   "codemirror_mode": {
    "name": "ipython",
    "version": 3
   },
   "file_extension": ".py",
   "mimetype": "text/x-python",
   "name": "python",
   "nbconvert_exporter": "python",
   "pygments_lexer": "ipython3",
   "version": "3.9.7"
  }
 },
 "nbformat": 4,
 "nbformat_minor": 5
}
